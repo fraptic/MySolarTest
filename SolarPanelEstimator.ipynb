{
 "cells": [
  {
   "cell_type": "markdown",
   "metadata": {},
   "source": [
    "\n",
    "# <span style=\"color:rgb(213,80,0)\">Solar Panel Output Estimator</span>\n",
    "\n",
    "Specify the location of your panels.\n",
    ""
   ]
  },
  {
   "cell_type": "code",
   "execution_count": 1,
   "metadata": {},
   "source": [
    "% Calculate Solar Time\n",
    "location = [42.35 -71.0589 -5];\n",
    "[lambda, phi, UTCoff, TZ, localYear, localMonth, localDay, beta, tau, pRad] = solTime(location);\n",
    ""
   ],
   "outputs": []
  },
  {
   "cell_type": "markdown",
   "metadata": {},
   "source": [
    "\n",
    "Specify the panel size and efficiency value.\n",
    ""
   ]
  },
  {
   "cell_type": "code",
   "execution_count": 2,
   "metadata": {},
   "source": [
    "% Calculate Panel Size and Efficiency\n",
    "pSize = 17;                          % Panel size in m^2\n",
    "eff = 60;                         % Panel efficiency\n",
    "pElec = eff*pSize*pRad;                                    % Panel electric output in kW\n",
    ""
   ],
   "outputs": []
  },
  {
   "cell_type": "markdown",
   "metadata": {},
   "source": [
    "### Results:"
   ]
  },
  {
   "cell_type": "code",
   "execution_count": 3,
   "metadata": {},
   "source": [
    "disp(['Expected electrical output = ' num2str(pElec) ' kW'])"
   ],
   "outputs": [
    {
     "data": {
      "text/plain": [
       "Expected electrical output = 916.8498 kW"
      ]
     },
     "metadata": {},
     "execution_count":  3,
     "output_type": "execute_result"
    }
   ]
  },
  {
   "cell_type": "code",
   "execution_count": 4,
   "metadata": {},
   "source": [
    "clf\n",
    "% Calculate Power Generation Over Time\n",
    "isFixed = 1;\n",
    "date = datetime(localYear,localMonth,localDay,'TimeZone',TZ);\n",
    "[times, sRad, pRad] = hourlyPanelRadiation(date, lambda, phi, UTCoff, tau, beta, isFixed) ;\n",
    "hold on\n",
    "bar(times,pRad)\n",
    "title(['Solar and Panel Radiation for ' datestr(date,'mmmm dd yyyy')])\n",
    "plot(times,sRad)\n",
    "xlabel('Hour of Day');\n",
    "ylabel('Radiation, kW/m^2')\n",
    "legend('Available Solar Radiation','Solar Radiation on Panel', 'Location','South')\n",
    "hold off"
   ],
   "outputs": [
    {
     "data": {
      "text/html": [
       "<center><img src=\"data:image/png;base64,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\" width=\"259\" alt=\"figure_0.png\"></center>"
      ]
     },
     "metadata": {},
     "execution_count":  4,
     "output_type": "execute_result"
    }
   ]
  },
  {
   "cell_type": "code",
   "execution_count": 5,
   "metadata": {},
   "source": [
    "function [lambda, phi, UTCoff, TZ, localYear, localMonth, localDay, beta, tau, pRad] = solTime(location)\n",
    "lambda = location(2);                                      % Longitude\n",
    "phi = location(1);                                         % Latitude\n",
    "UTCoff = location(3);                                      % UTC offset\n",
    "if(UTCoff < 0)\n",
    "    TZ = ['UTC' num2str(UTCoff)];\n",
    "else\n",
    "    TZ = ['UTC+' num2str(UTCoff)];\n",
    "end\n",
    "\n",
    "january1  = datetime(2024,1,1,'TimeZone',TZ);              % January 1st\n",
    "\n",
    "localYear = 2024;\n",
    "localMonth = 6;\n",
    "localDay = 1;\n",
    "localHour = 12;\n",
    "localTime = datetime(localYear,localMonth,localDay,localHour,0,0,'TimeZone',TZ);\n",
    "\n",
    "d = caldays(between(january1,localTime,'Day'));            % Day of year\n",
    "solarCorr = solarCorrection(d,lambda,UTCoff);              % Correction to local time\n",
    "solarTime = localTime + minutes(solarCorr);\n",
    "\n",
    "% Calculate Solar Declination and Elevation\n",
    "delta = asind(sind(23.45)*sind(360*(d - 81)/365));          % Declination\n",
    "omega = 15*(solarTime.Hour + solarTime.Minute/60 - 12);     % Hour angle\n",
    "alpha = asind(sind(delta)*sind(phi) + ...                   % Elevation\n",
    "    cosd(delta)*cosd(phi)*cosd(omega));\n",
    "\n",
    "% Calculate Air Mass and Solar Radiation\n",
    "AM = 1/(cosd(90-alpha) + 0.50572*(6.07955+alpha)^-1.6354);\n",
    "sRad = 1.353*0.7^(AM^0.678);                                % kW/m^2\n",
    "\n",
    "% Calculate Solar Radiation on Fixed Panels\n",
    "gamma = acosd((sind(delta)*cosd(phi) - cosd(delta)*sind(phi)*cosd(omega))/cosd(alpha));\n",
    "if (hour(solarTime) >= 12) && (omega >= 0)\n",
    "    gamma = 360 - gamma;\n",
    "end\n",
    "beta = 180;                                                 % Panel azimuth\n",
    "tau = 35;                                                   % Panel tilt\n",
    "pRad = sRad*max(0,(cosd(alpha)*sind(tau)*cosd(beta-gamma) + sind(alpha)*cosd(tau)));\n",
    "end"
   ],
   "outputs": []
}
,
  {
   "cell_type": "markdown",
   "metadata": {},
   "source": [
    "\n",
    " ** To view the code for this example, go to the* ***View*** *tab and click* ***Output on Right*** *or* ***Output Inline****.*\n",
    "\n",
    "\n",
    "*Copyright 2019 The MathWorks, Inc.*\n",
    "\n",
    ""
   ]
  }
 ],
 "metadata": {
  "kernelspec": {
   "display_name": "MATLAB (matlabkernel)",
   "language": "matlab",
   "name": "matlab"
  },
  "language_info": {
   "file_extension": ".m",
   "mimetype": "text/matlab",
   "name": "matlab",
   "nbconvert_exporter": "matlab",
   "pygments_lexer": "matlab",
   "version": "23.2.0.2436196"
  }
 },
 "nbformat": 4,
 "nbformat_minor": 4
}